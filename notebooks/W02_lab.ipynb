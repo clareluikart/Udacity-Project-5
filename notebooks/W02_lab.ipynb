{
  "cells": [
    {
      "cell_type": "markdown",
      "metadata": {
        "id": "PjFkAFP1x_lx"
      },
      "source": [
        "# Week 2 Lab\n",
        "\n",
        "**Datasets**:\n",
        "\n",
        "The following datasets are used in this lab.\n",
        "\n",
        "- [nyc_subway_stations.tsv](https://open.gishub.org/data/duckdb/nyc_subway_stations.tsv)\n",
        "- [nyc_neighborhoods.tsv](https://open.gishub.org/data/duckdb/nyc_neighborhoods.tsv)"
      ],
      "id": "PjFkAFP1x_lx"
    },
    {
      "cell_type": "code",
      "execution_count": 1,
      "metadata": {
        "id": "in593aA4x_lx"
      },
      "outputs": [],
      "source": [
        "# %pip install duckdb duckdb-engine jupysql"
      ],
      "id": "in593aA4x_lx"
    },
    {
      "cell_type": "code",
      "execution_count": 2,
      "metadata": {
        "id": "cB3xME_Xx_lx"
      },
      "outputs": [],
      "source": [
        "import duckdb\n",
        "\n",
        "%load_ext sql"
      ],
      "id": "cB3xME_Xx_lx"
    },
    {
      "cell_type": "code",
      "execution_count": 3,
      "metadata": {
        "id": "Ctpw6EXIx_ly"
      },
      "outputs": [],
      "source": [
        "%config SqlMagic.autopandas = True\n",
        "%config SqlMagic.feedback = False\n",
        "%config SqlMagic.displaycon = False"
      ],
      "id": "Ctpw6EXIx_ly"
    },
    {
      "cell_type": "markdown",
      "metadata": {
        "id": "deyRck7mx_ly"
      },
      "source": [
        "## Question 1: Creating Tables\n",
        "\n",
        "Create a database, then write a SQL query to create a table named `nyc_subway_stations` and load the data from the file `nyc_subway_stations.tsv` into it. Similarly, create a table named `nyc_neighborhoods` and load the data from the file `nyc_neighborhoods.tsv` into it."
      ],
      "id": "deyRck7mx_ly"
    },
    {
      "cell_type": "code",
      "execution_count": null,
      "metadata": {
        "id": "rsLD3ULax_ly"
      },
      "outputs": [],
      "source": [
        "# Add your code here."
      ],
      "id": "rsLD3ULax_ly"
    },
    {
      "cell_type": "markdown",
      "metadata": {
        "id": "IRoEM7qSx_ly"
      },
      "source": [
        "## Question 2: Column Filtering\n",
        "\n",
        "Write a SQL query to display the `ID`, `NAME`, and `BOROUGH` of each subway station in the `nyc_subway_stations` dataset."
      ],
      "id": "IRoEM7qSx_ly"
    },
    {
      "cell_type": "code",
      "execution_count": null,
      "metadata": {
        "id": "0jFzjUXix_ly"
      },
      "outputs": [],
      "source": [
        "# Add your code here."
      ],
      "id": "0jFzjUXix_ly"
    },
    {
      "cell_type": "markdown",
      "metadata": {
        "id": "qMf5tV47x_ly"
      },
      "source": [
        "## Question 3: Row Filtering\n",
        "\n",
        "Write a SQL query to find all subway stations in the `nyc_subway_stations` dataset that are located in the borough of Manhattan."
      ],
      "id": "qMf5tV47x_ly"
    },
    {
      "cell_type": "code",
      "execution_count": null,
      "metadata": {
        "id": "o1mRN-ibx_ly"
      },
      "outputs": [],
      "source": [
        "# Add your code here."
      ],
      "id": "o1mRN-ibx_ly"
    },
    {
      "cell_type": "markdown",
      "metadata": {
        "id": "oDdwpLGOx_ly"
      },
      "source": [
        "## Question 4: Sorting Results\n",
        "\n",
        "Write a SQL query to list the subway stations in the `nyc_subway_stations` dataset in alphabetical order by their names."
      ],
      "id": "oDdwpLGOx_ly"
    },
    {
      "cell_type": "code",
      "execution_count": null,
      "metadata": {
        "id": "4luiIR3Ix_ly"
      },
      "outputs": [],
      "source": [
        "# Add your code here."
      ],
      "id": "4luiIR3Ix_ly"
    },
    {
      "cell_type": "markdown",
      "metadata": {
        "id": "EOV-ZaFSx_ly"
      },
      "source": [
        "## Question 5: Unique Values\n",
        "\n",
        "Write a SQL query to find the distinct boroughs represented in the `nyc_subway_stations` dataset."
      ],
      "id": "EOV-ZaFSx_ly"
    },
    {
      "cell_type": "code",
      "execution_count": null,
      "metadata": {
        "id": "ovkqJk1Ix_ly"
      },
      "outputs": [],
      "source": [
        "# Add your code here."
      ],
      "id": "ovkqJk1Ix_ly"
    },
    {
      "cell_type": "markdown",
      "metadata": {
        "id": "K0UNXOY5x_ly"
      },
      "source": [
        "## Question 6: Counting Rows\n",
        "\n",
        "Write a SQL query to count the number of subway stations in each borough in the `nyc_subway_stations` dataset."
      ],
      "id": "K0UNXOY5x_ly"
    },
    {
      "cell_type": "code",
      "execution_count": null,
      "metadata": {
        "id": "Kl2uZ7DDx_lz"
      },
      "outputs": [],
      "source": [
        "# Add your code here."
      ],
      "id": "Kl2uZ7DDx_lz"
    },
    {
      "cell_type": "markdown",
      "metadata": {
        "id": "158vlNUjx_lz"
      },
      "source": [
        "## Question 7: Aggregating Data\n",
        "\n",
        "Write a SQL query to list the number of subway stations in each borough, sorted in descending order by the count."
      ],
      "id": "158vlNUjx_lz"
    },
    {
      "cell_type": "code",
      "execution_count": null,
      "metadata": {
        "id": "FdrSEy_Hx_lz"
      },
      "outputs": [],
      "source": [
        "# Add your code here."
      ],
      "id": "FdrSEy_Hx_lz"
    },
    {
      "cell_type": "markdown",
      "metadata": {
        "id": "yX4SA38Bx_lz"
      },
      "source": [
        "## Question 8: Joining Tables\n",
        "\n",
        "Write a SQL query to join the `nyc_subway_stations` and `nyc_neighborhoods` datasets on the borough name, displaying the subway station name and the neighborhood name."
      ],
      "id": "yX4SA38Bx_lz"
    },
    {
      "cell_type": "code",
      "execution_count": null,
      "metadata": {
        "id": "NJ3q1Nkxx_lz"
      },
      "outputs": [],
      "source": [
        "# Add your code here."
      ],
      "id": "NJ3q1Nkxx_lz"
    },
    {
      "cell_type": "markdown",
      "metadata": {
        "id": "ZJHLXTXyx_lz"
      },
      "source": [
        "## Question 9: String Manipulation\n",
        "\n",
        "Write a SQL query to display the names of subway stations in the `nyc_subway_stations` dataset that contain the word \"St\" in their names."
      ],
      "id": "ZJHLXTXyx_lz"
    },
    {
      "cell_type": "code",
      "execution_count": null,
      "metadata": {
        "id": "ynNtElsGx_lz"
      },
      "outputs": [],
      "source": [
        "# Add your code here."
      ],
      "id": "ynNtElsGx_lz"
    },
    {
      "cell_type": "markdown",
      "metadata": {
        "id": "Wsztmrynx_lz"
      },
      "source": [
        "## Question 10: Filtering with Multiple Conditions\n",
        "\n",
        "Write a SQL query to find all subway stations in the `nyc_subway_stations` dataset that are in the borough of Brooklyn and have routes that include the letter \"R\"."
      ],
      "id": "Wsztmrynx_lz"
    },
    {
      "cell_type": "code",
      "execution_count": null,
      "metadata": {
        "id": "GADcQkvbx_lz"
      },
      "outputs": [],
      "source": [
        "# Add your code here."
      ],
      "id": "GADcQkvbx_lz"
    },
    {
      "cell_type": "markdown",
      "id": "2a78cbfd",
      "metadata": {
        "id": "2a78cbfd"
      },
      "source": [
        "Once you've completed your attempt, you can check your answers [here](https://github.com/oballinger/CASA0025/blob/main/notebooks/W02_lab_solution.ipynb)."
      ]
    }
  ],
  "metadata": {
    "kernelspec": {
      "display_name": "Python 3",
      "language": "python",
      "name": "python3"
    },
    "language_info": {
      "codemirror_mode": {
        "name": "ipython",
        "version": 3
      },
      "file_extension": ".py",
      "mimetype": "text/x-python",
      "name": "python",
      "nbconvert_exporter": "python",
      "pygments_lexer": "ipython3",
      "version": "3.9.18"
    },
    "colab": {
      "provenance": []
    }
  },
  "nbformat": 4,
  "nbformat_minor": 5
}